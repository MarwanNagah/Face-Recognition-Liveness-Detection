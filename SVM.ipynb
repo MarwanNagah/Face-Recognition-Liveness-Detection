{
 "cells": [
  {
   "cell_type": "code",
   "execution_count": 19,
   "metadata": {},
   "outputs": [],
   "source": [
    "import os\n",
    "import numpy as np\n",
    "import cv2\n",
    "import matplotlib.pyplot as plt\n",
    "import pickle\n",
    "import random\n",
    "from sklearn.model_selection import train_test_split\n",
    "from sklearn.svm import SVC\n",
    "from sklearn import metrics"
   ]
  },
  {
   "cell_type": "code",
   "execution_count": 20,
   "metadata": {},
   "outputs": [],
   "source": [
    "dir = 'C:\\\\Users\\\\Mohamed\\\\PycharmProjects\\\\pythonProject1\\\\Graduation\\\\CelebA_Spoof\\\\Data\\\\train'\n",
    "\n",
    "categories = ['live','spoof']\n",
    "\n",
    "data = []\n",
    "\n",
    "for category in categories:\n",
    "    path = os.path.join(dir,category)\n",
    "    label = categories.index(category)\n",
    "    \n",
    "    for img in os.listdir(path):\n",
    "        imgpath = os.path.join(path,img)\n",
    "        spoof_image = cv2.imread(imgpath,0)\n",
    "        spoof_image = cv2.resize(spoof_image,(50,50))\n",
    "        image = np.array(spoof_image).flatten()\n",
    "        \n",
    "        data.append([image,label])\n",
    "        \n",
    "pick_in = open('data1.pickle','wb')\n",
    "pickle.dump(data,pick_in)\n",
    "pick_in.close()"
   ]
  },
  {
   "cell_type": "code",
   "execution_count": 21,
   "metadata": {},
   "outputs": [],
   "source": [
    "pick_in = open('data1.pickle','rb')\n",
    "data = pickle.load(pick_in)\n",
    "pick_in.close()"
   ]
  },
  {
   "cell_type": "code",
   "execution_count": 22,
   "metadata": {},
   "outputs": [],
   "source": [
    "random.shuffle(data)\n",
    "features = []\n",
    "labels = []\n",
    "\n",
    "for feature, label in data:\n",
    "    features.append(feature)\n",
    "    labels.append(label)\n",
    "\n",
    "xtrain,xtest,ytrain,ytest=train_test_split(features,labels,test_size=0.30)\n",
    "model = SVC(C=1,kernel='poly', gamma='auto')\n",
    "model.fit(xtrain,ytrain)\n",
    "\n",
    "svm_model=open('svm_model.sav','wb')\n",
    "pickle.dump(model,svm_model)\n",
    "svm_model.close()"
   ]
  },
  {
   "cell_type": "code",
   "execution_count": 23,
   "metadata": {},
   "outputs": [
    {
     "name": "stdout",
     "output_type": "stream",
     "text": [
      "Accuracy:  0.89\n",
      "Prediction is:  spoof\n"
     ]
    },
    {
     "data": {
      "image/png": "[encoded data removed]",
      "text/plain": [
       "<Figure size 432x288 with 1 Axes>"
      ]
     },
     "metadata": {
      "needs_background": "light"
     },
     "output_type": "display_data"
    }
   ],
   "source": [
    "svm_read=open('svm_model.sav','rb')\n",
    "model=pickle.load(svm_read)\n",
    "svm_read.close()\n",
    "\n",
    "prediction=model.predict(xtest)\n",
    "accuracy = model.score(xtest,ytest)\n",
    "\n",
    "categories = ['live','spoof']\n",
    "\n",
    "print('Accuracy: ',accuracy)\n",
    "print('Prediction is: ',categories[prediction[0]])\n",
    "\n",
    "my_classify=xtest[0].reshape(50,50)\n",
    "plt.imshow(my_classify,cmap='gray')\n",
    "plt.show()"
   ]
  },
  {
   "cell_type": "code",
   "execution_count": 30,
   "metadata": {},
   "outputs": [
    {
     "name": "stdout",
     "output_type": "stream",
     "text": [
      "Accuracy: 0.8883333333333333\n",
      "Precision: 0.8625730994152047\n",
      "Recall: 0.9365079365079365\n"
     ]
    }
   ],
   "source": [
    "from sklearn import svm\n",
    "clf = svm.SVC(kernel='poly') # Linear Kernel\n",
    "clf.fit(xtrain, ytrain)\n",
    "y_pred = clf.predict(xtest)\n",
    "print(\"Accuracy:\",metrics.accuracy_score(ytest, y_pred))\n",
    "print(\"Precision:\",metrics.precision_score(ytest, y_pred))\n",
    "print(\"Recall:\",metrics.recall_score(ytest, y_pred))"
   ]
  },
  {
   "cell_type": "code",
   "execution_count": null,
   "metadata": {},
   "outputs": [],
   "source": []
  }
 ],
 "metadata": {
  "kernelspec": {
   "display_name": "Python 3",
   "language": "python",
   "name": "python3"
  },
  "language_info": {
   "codemirror_mode": {
    "name": "ipython",
    "version": 3
   },
   "file_extension": ".py",
   "mimetype": "text/x-python",
   "name": "python",
   "nbconvert_exporter": "python",
   "pygments_lexer": "ipython3",
   "version": "3.8.5"
  }
 },
 "nbformat": 4,
 "nbformat_minor": 4
}
