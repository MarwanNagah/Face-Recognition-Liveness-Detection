{
 "cells": [
  {
   "cell_type": "code",
   "execution_count": 1,
   "metadata": {},
   "outputs": [],
   "source": [
    "import cv2\n",
    "import numpy as np\n",
    "import os\n",
    "from sklearn.model_selection import train_test_split\n",
    "from sklearn.ensemble import RandomForestRegressor\n",
    "from sklearn import metrics"
   ]
  },
  {
   "cell_type": "code",
   "execution_count": 2,
   "metadata": {},
   "outputs": [],
   "source": [
    "def read_image(imagesArray,imagesLabels,path):\n",
    "    full_path = path+\"live\\\\\"\n",
    "    ImagesPaths = [x for x in os.listdir(full_path)]\n",
    "    \n",
    "    count = 0\n",
    "    for i in ImagesPaths:\n",
    "        img = cv2.imread(full_path+i)\n",
    "        img = cv2.resize(img,(img_width,img_height))\n",
    "        imagesArray[count]= img\n",
    "        imagesLabels[count]=np.array(0)\n",
    "        count+=1\n",
    "        \n",
    "    full_path = path+\"spoof\\\\\"\n",
    "    ImagesPaths = [x for x in os.listdir(full_path)]\n",
    "    \n",
    "    for i in ImagesPaths:\n",
    "        img = cv2.imread(full_path+i)\n",
    "        img = cv2.resize(img,(img_width,img_height))\n",
    "        imagesArray[count]= img\n",
    "        imagesLabels[count]=np.array(1)\n",
    "        count+=1"
   ]
  },
  {
   "cell_type": "code",
   "execution_count": 3,
   "metadata": {},
   "outputs": [],
   "source": [
    "# Determine shape of the data\n",
    "img_width, img_height, img_num_channels = 32, 32, 1\n",
    "input_shape = (img_width, img_height, img_num_channels)\n",
    "path = 'C:\\\\Python36-32\\\\Face-Recognition-Liveness-Detection\\\\CelebA_Spoof\\\\Data\\\\train\\\\'\n",
    "imagesArray = np.zeros((2102,img_width,img_height,3),dtype = 'float32')\n",
    "imagesLabels = np.zeros((2102,1),dtype = 'float32')"
   ]
  },
  {
   "cell_type": "code",
   "execution_count": 4,
   "metadata": {},
   "outputs": [],
   "source": [
    "read_image(imagesArray,imagesLabels,path)\n",
    "imagesArray = imagesArray / 255\n",
    "nsamples, nx, ny,nz = imagesArray.shape\n",
    "d2_train_dataset = imagesArray.reshape((nsamples,nx*ny*nz))"
   ]
  },
  {
   "cell_type": "code",
   "execution_count": 5,
   "metadata": {},
   "outputs": [],
   "source": [
    "X_train, X_test, y_train, y_test = train_test_split(d2_train_dataset, imagesLabels, test_size=0.3, random_state=1)"
   ]
  },
  {
   "cell_type": "code",
   "execution_count": 6,
   "metadata": {},
   "outputs": [
    {
     "name": "stderr",
     "output_type": "stream",
     "text": [
      "C:\\Users\\Jimmy\\.conda\\envs\\tf\\lib\\site-packages\\ipykernel_launcher.py:2: DataConversionWarning: A column-vector y was passed when a 1d array was expected. Please change the shape of y to (n_samples,), for example using ravel().\n",
      "  \n"
     ]
    }
   ],
   "source": [
    "regressor = RandomForestRegressor(n_estimators=20, random_state=0)\n",
    "regressor.fit(X_train, y_train)\n",
    "y_pred = regressor.predict(X_test)"
   ]
  },
  {
   "cell_type": "code",
   "execution_count": 11,
   "metadata": {},
   "outputs": [
    {
     "name": "stdout",
     "output_type": "stream",
     "text": [
      "[[316  10]\n",
      " [ 19 286]]\n",
      "              precision    recall  f1-score   support\n",
      "\n",
      "         0.0       0.94      0.97      0.96       326\n",
      "         1.0       0.97      0.94      0.95       305\n",
      "\n",
      "    accuracy                           0.95       631\n",
      "   macro avg       0.95      0.95      0.95       631\n",
      "weighted avg       0.95      0.95      0.95       631\n",
      "\n",
      "0.9540412044374009\n"
     ]
    }
   ],
   "source": [
    "print(metrics.confusion_matrix(y_test,y_pred.round()))\n",
    "print(metrics.classification_report(y_test,y_pred.round()))\n",
    "print(metrics.accuracy_score(y_test, y_pred.round()))"
   ]
  },
  {
   "cell_type": "code",
   "execution_count": null,
   "metadata": {},
   "outputs": [],
   "source": []
  }
 ],
 "metadata": {
  "kernelspec": {
   "display_name": "Python 3",
   "language": "python",
   "name": "python3"
  },
  "language_info": {
   "codemirror_mode": {
    "name": "ipython",
    "version": 3
   },
   "file_extension": ".py",
   "mimetype": "text/x-python",
   "name": "python",
   "nbconvert_exporter": "python",
   "pygments_lexer": "ipython3",
   "version": "3.7.9"
  }
 },
 "nbformat": 4,
 "nbformat_minor": 4
}
